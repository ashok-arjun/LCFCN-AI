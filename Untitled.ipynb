{
 "cells": [
  {
   "cell_type": "code",
   "execution_count": 4,
   "id": "perceived-leone",
   "metadata": {},
   "outputs": [
    {
     "name": "stdout",
     "output_type": "stream",
     "text": [
      "--2021-04-21 06:55:19--  https://www.dropbox.com/s/kqqkl0exfshsw8v/mcnn_shtechB_110.h5?dl=1\n",
      "Resolving www.dropbox.com (www.dropbox.com)... 162.125.9.18, 2620:100:601f:18::a27d:912\n",
      "Connecting to www.dropbox.com (www.dropbox.com)|162.125.9.18|:443... connected.\n",
      "HTTP request sent, awaiting response... 301 Moved Permanently\n",
      "Location: /s/dl/kqqkl0exfshsw8v/mcnn_shtechB_110.h5 [following]\n",
      "--2021-04-21 06:55:24--  https://www.dropbox.com/s/dl/kqqkl0exfshsw8v/mcnn_shtechB_110.h5\n",
      "Reusing existing connection to www.dropbox.com:443.\n",
      "HTTP request sent, awaiting response... 302 Found\n",
      "Location: https://uc69045f63781d31e736f09fa405.dl.dropboxusercontent.com/cd/0/get/BNBT_XXn-WshDfnNxN3w1NAOV40pzwByTltejKOXkzB4ZtSw1SlxAT9BuZ4n8fGaiKQqAXplQ1fT7n6P9kfsrPS0kg9hVNbygee3O5ydT_ziQoQK9-V_OBPAbPU9VLe7xt1OyTX6UOCCqPIo8RgLAXee/file?dl=1# [following]\n",
      "--2021-04-21 06:55:24--  https://uc69045f63781d31e736f09fa405.dl.dropboxusercontent.com/cd/0/get/BNBT_XXn-WshDfnNxN3w1NAOV40pzwByTltejKOXkzB4ZtSw1SlxAT9BuZ4n8fGaiKQqAXplQ1fT7n6P9kfsrPS0kg9hVNbygee3O5ydT_ziQoQK9-V_OBPAbPU9VLe7xt1OyTX6UOCCqPIo8RgLAXee/file?dl=1\n",
      "Resolving uc69045f63781d31e736f09fa405.dl.dropboxusercontent.com (uc69045f63781d31e736f09fa405.dl.dropboxusercontent.com)... 162.125.9.15, 2620:100:601f:15::a27d:90f\n",
      "Connecting to uc69045f63781d31e736f09fa405.dl.dropboxusercontent.com (uc69045f63781d31e736f09fa405.dl.dropboxusercontent.com)|162.125.9.15|:443... connected.\n",
      "HTTP request sent, awaiting response... 200 OK\n",
      "Length: 527528 (515K) [application/binary]\n",
      "Saving to: ‘mcnn_shtechB_110.h5?dl=1’\n",
      "\n",
      "mcnn_shtechB_110.h5 100%[===================>] 515.16K  1005KB/s    in 0.5s    \n",
      "\n",
      "2021-04-21 06:55:26 (1005 KB/s) - ‘mcnn_shtechB_110.h5?dl=1’ saved [527528/527528]\n",
      "\n"
     ]
    }
   ],
   "source": [
    "!wget https://www.dropbox.com/s/kqqkl0exfshsw8v/mcnn_shtechB_110.h5?dl=1"
   ]
  },
  {
   "cell_type": "code",
   "execution_count": 5,
   "id": "physical-sleeping",
   "metadata": {},
   "outputs": [
    {
     "name": "stdout",
     "output_type": "stream",
     "text": [
      "512MB [00:08, 66.1MB/s] \n"
     ]
    }
   ],
   "source": [
    "!python download_gdrive.py 1N75fun1I1XWh1LuKmi60QXF2SgCPLLLQ ./pretrained_model.pth"
   ]
  },
  {
   "cell_type": "code",
   "execution_count": 12,
   "id": "permanent-ceramic",
   "metadata": {},
   "outputs": [
    {
     "name": "stdout",
     "output_type": "stream",
     "text": [
      "\u001b[0m\u001b[01;34mground-truth\u001b[0m/  \u001b[01;34mimages\u001b[0m/\n"
     ]
    }
   ],
   "source": [
    "ls /kaggle/input/shanghaitech/ShanghaiTech/part_B/train_data/"
   ]
  },
  {
   "cell_type": "code",
   "execution_count": 18,
   "id": "declared-reference",
   "metadata": {},
   "outputs": [],
   "source": [
    "!rm .gitignore"
   ]
  },
  {
   "cell_type": "code",
   "execution_count": null,
   "id": "stable-chicken",
   "metadata": {},
   "outputs": [
    {
     "name": "stdout",
     "output_type": "stream",
     "text": [
      "The authenticity of host 'github.com (140.82.114.3)' can't be established.\n",
      "RSA key fingerprint is SHA256:nThbg6kXUpJWGl7E1IGOCspRomTxdCARLviKw6E5SY8.\n",
      "Are you sure you want to continue connecting (yes/no)? "
     ]
    }
   ],
   "source": [
    "!git push"
   ]
  },
  {
   "cell_type": "code",
   "execution_count": 13,
   "id": "daily-harassment",
   "metadata": {},
   "outputs": [
    {
     "name": "stdout",
     "output_type": "stream",
     "text": [
      "Collecting haven-ai>=0.0\n",
      "  Downloading haven_ai-0.4.1-py3-none-any.whl (85 kB)\n",
      "\u001b[K     |████████████████████████████████| 85 kB 684 kB/s eta 0:00:01\n",
      "\u001b[?25hRequirement already satisfied: matplotlib>=0.0 in /opt/conda/lib/python3.7/site-packages (from haven-ai>=0.0->-r requirements.txt (line 1)) (3.4.0)\n",
      "Requirement already satisfied: scikit-learn>=0.0 in /opt/conda/lib/python3.7/site-packages (from haven-ai>=0.0->-r requirements.txt (line 1)) (0.24.1)\n",
      "Requirement already satisfied: scipy>=0.0 in /opt/conda/lib/python3.7/site-packages (from haven-ai>=0.0->-r requirements.txt (line 1)) (1.5.4)\n",
      "Requirement already satisfied: Pillow>=0.0 in /opt/conda/lib/python3.7/site-packages (from haven-ai>=0.0->-r requirements.txt (line 1)) (7.2.0)\n",
      "Requirement already satisfied: scikit-image>=0.0 in /opt/conda/lib/python3.7/site-packages (from haven-ai>=0.0->-r requirements.txt (line 1)) (0.18.1)\n",
      "Requirement already satisfied: jupyter>=0.0 in /opt/conda/lib/python3.7/site-packages (from haven-ai>=0.0->-r requirements.txt (line 1)) (1.0.0)\n",
      "Requirement already satisfied: torch>=0.0 in /opt/conda/lib/python3.7/site-packages (from haven-ai>=0.0->-r requirements.txt (line 1)) (1.7.0)\n",
      "Requirement already satisfied: requests>=0.0 in /opt/conda/lib/python3.7/site-packages (from haven-ai>=0.0->-r requirements.txt (line 1)) (2.25.1)\n",
      "Requirement already satisfied: pandas>=0.0 in /opt/conda/lib/python3.7/site-packages (from haven-ai>=0.0->-r requirements.txt (line 1)) (1.1.5)\n",
      "Requirement already satisfied: opencv-python-headless>=0.0 in /opt/conda/lib/python3.7/site-packages (from haven-ai>=0.0->-r requirements.txt (line 1)) (4.5.1.48)\n",
      "Requirement already satisfied: sklearn>=0.0 in /opt/conda/lib/python3.7/site-packages (from haven-ai>=0.0->-r requirements.txt (line 1)) (0.0)\n",
      "Requirement already satisfied: numpy>=0.0 in /opt/conda/lib/python3.7/site-packages (from haven-ai>=0.0->-r requirements.txt (line 1)) (1.19.5)\n",
      "Requirement already satisfied: torchvision>=0.0 in /opt/conda/lib/python3.7/site-packages (from haven-ai>=0.0->-r requirements.txt (line 1)) (0.8.1)\n",
      "Requirement already satisfied: notebook>=4.0 in /opt/conda/lib/python3.7/site-packages (from haven-ai>=0.0->-r requirements.txt (line 1)) (5.5.0)\n",
      "Requirement already satisfied: tqdm>=0.0 in /opt/conda/lib/python3.7/site-packages (from haven-ai>=0.0->-r requirements.txt (line 1)) (4.56.2)\n",
      "Requirement already satisfied: ipywidgets>=0.0 in /opt/conda/lib/python3.7/site-packages (from haven-ai>=0.0->-r requirements.txt (line 1)) (7.6.3)\n",
      "Requirement already satisfied: nbformat>=4.2.0 in /opt/conda/lib/python3.7/site-packages (from ipywidgets>=0.0->haven-ai>=0.0->-r requirements.txt (line 1)) (5.1.2)\n",
      "Requirement already satisfied: jupyterlab-widgets>=1.0.0 in /opt/conda/lib/python3.7/site-packages (from ipywidgets>=0.0->haven-ai>=0.0->-r requirements.txt (line 1)) (1.0.0)\n",
      "Requirement already satisfied: traitlets>=4.3.1 in /opt/conda/lib/python3.7/site-packages (from ipywidgets>=0.0->haven-ai>=0.0->-r requirements.txt (line 1)) (5.0.5)\n",
      "Requirement already satisfied: widgetsnbextension~=3.5.0 in /opt/conda/lib/python3.7/site-packages (from ipywidgets>=0.0->haven-ai>=0.0->-r requirements.txt (line 1)) (3.5.1)\n",
      "Requirement already satisfied: ipykernel>=4.5.1 in /opt/conda/lib/python3.7/site-packages (from ipywidgets>=0.0->haven-ai>=0.0->-r requirements.txt (line 1)) (5.1.1)\n",
      "Requirement already satisfied: ipython>=4.0.0 in /opt/conda/lib/python3.7/site-packages (from ipywidgets>=0.0->haven-ai>=0.0->-r requirements.txt (line 1)) (7.20.0)\n",
      "Requirement already satisfied: jupyter-client in /opt/conda/lib/python3.7/site-packages (from ipykernel>=4.5.1->ipywidgets>=0.0->haven-ai>=0.0->-r requirements.txt (line 1)) (6.1.11)\n",
      "Requirement already satisfied: tornado>=4.2 in /opt/conda/lib/python3.7/site-packages (from ipykernel>=4.5.1->ipywidgets>=0.0->haven-ai>=0.0->-r requirements.txt (line 1)) (6.1)\n",
      "Requirement already satisfied: pickleshare in /opt/conda/lib/python3.7/site-packages (from ipython>=4.0.0->ipywidgets>=0.0->haven-ai>=0.0->-r requirements.txt (line 1)) (0.7.5)\n",
      "Requirement already satisfied: pygments in /opt/conda/lib/python3.7/site-packages (from ipython>=4.0.0->ipywidgets>=0.0->haven-ai>=0.0->-r requirements.txt (line 1)) (2.8.0)\n",
      "Requirement already satisfied: pexpect>4.3 in /opt/conda/lib/python3.7/site-packages (from ipython>=4.0.0->ipywidgets>=0.0->haven-ai>=0.0->-r requirements.txt (line 1)) (4.8.0)\n",
      "Requirement already satisfied: jedi>=0.16 in /opt/conda/lib/python3.7/site-packages (from ipython>=4.0.0->ipywidgets>=0.0->haven-ai>=0.0->-r requirements.txt (line 1)) (0.17.2)\n",
      "Requirement already satisfied: setuptools>=18.5 in /opt/conda/lib/python3.7/site-packages (from ipython>=4.0.0->ipywidgets>=0.0->haven-ai>=0.0->-r requirements.txt (line 1)) (49.6.0.post20210108)\n",
      "Requirement already satisfied: prompt-toolkit!=3.0.0,!=3.0.1,<3.1.0,>=2.0.0 in /opt/conda/lib/python3.7/site-packages (from ipython>=4.0.0->ipywidgets>=0.0->haven-ai>=0.0->-r requirements.txt (line 1)) (3.0.16)\n",
      "Requirement already satisfied: decorator in /opt/conda/lib/python3.7/site-packages (from ipython>=4.0.0->ipywidgets>=0.0->haven-ai>=0.0->-r requirements.txt (line 1)) (4.4.2)\n",
      "Requirement already satisfied: backcall in /opt/conda/lib/python3.7/site-packages (from ipython>=4.0.0->ipywidgets>=0.0->haven-ai>=0.0->-r requirements.txt (line 1)) (0.2.0)\n",
      "Requirement already satisfied: parso<0.8.0,>=0.7.0 in /opt/conda/lib/python3.7/site-packages (from jedi>=0.16->ipython>=4.0.0->ipywidgets>=0.0->haven-ai>=0.0->-r requirements.txt (line 1)) (0.7.1)\n",
      "Requirement already satisfied: jupyter-console in /opt/conda/lib/python3.7/site-packages (from jupyter>=0.0->haven-ai>=0.0->-r requirements.txt (line 1)) (6.4.0)\n",
      "Requirement already satisfied: nbconvert in /opt/conda/lib/python3.7/site-packages (from jupyter>=0.0->haven-ai>=0.0->-r requirements.txt (line 1)) (6.0.7)\n",
      "Requirement already satisfied: qtconsole in /opt/conda/lib/python3.7/site-packages (from jupyter>=0.0->haven-ai>=0.0->-r requirements.txt (line 1)) (5.0.3)\n",
      "Requirement already satisfied: pyparsing>=2.2.1 in /opt/conda/lib/python3.7/site-packages (from matplotlib>=0.0->haven-ai>=0.0->-r requirements.txt (line 1)) (2.4.7)\n",
      "Requirement already satisfied: python-dateutil>=2.7 in /opt/conda/lib/python3.7/site-packages (from matplotlib>=0.0->haven-ai>=0.0->-r requirements.txt (line 1)) (2.8.1)\n",
      "Requirement already satisfied: cycler>=0.10 in /opt/conda/lib/python3.7/site-packages (from matplotlib>=0.0->haven-ai>=0.0->-r requirements.txt (line 1)) (0.10.0)\n",
      "Requirement already satisfied: kiwisolver>=1.0.1 in /opt/conda/lib/python3.7/site-packages (from matplotlib>=0.0->haven-ai>=0.0->-r requirements.txt (line 1)) (1.3.1)\n",
      "Requirement already satisfied: six in /opt/conda/lib/python3.7/site-packages (from cycler>=0.10->matplotlib>=0.0->haven-ai>=0.0->-r requirements.txt (line 1)) (1.15.0)\n",
      "Requirement already satisfied: jupyter-core in /opt/conda/lib/python3.7/site-packages (from nbformat>=4.2.0->ipywidgets>=0.0->haven-ai>=0.0->-r requirements.txt (line 1)) (4.7.1)\n",
      "Requirement already satisfied: jsonschema!=2.5.0,>=2.4 in /opt/conda/lib/python3.7/site-packages (from nbformat>=4.2.0->ipywidgets>=0.0->haven-ai>=0.0->-r requirements.txt (line 1)) (3.2.0)\n",
      "Requirement already satisfied: ipython-genutils in /opt/conda/lib/python3.7/site-packages (from nbformat>=4.2.0->ipywidgets>=0.0->haven-ai>=0.0->-r requirements.txt (line 1)) (0.2.0)\n",
      "Requirement already satisfied: pyrsistent>=0.14.0 in /opt/conda/lib/python3.7/site-packages (from jsonschema!=2.5.0,>=2.4->nbformat>=4.2.0->ipywidgets>=0.0->haven-ai>=0.0->-r requirements.txt (line 1)) (0.17.3)\n",
      "Requirement already satisfied: attrs>=17.4.0 in /opt/conda/lib/python3.7/site-packages (from jsonschema!=2.5.0,>=2.4->nbformat>=4.2.0->ipywidgets>=0.0->haven-ai>=0.0->-r requirements.txt (line 1)) (20.3.0)\n",
      "Requirement already satisfied: importlib-metadata in /opt/conda/lib/python3.7/site-packages (from jsonschema!=2.5.0,>=2.4->nbformat>=4.2.0->ipywidgets>=0.0->haven-ai>=0.0->-r requirements.txt (line 1)) (3.4.0)\n",
      "Requirement already satisfied: terminado>=0.8.1 in /opt/conda/lib/python3.7/site-packages (from notebook>=4.0->haven-ai>=0.0->-r requirements.txt (line 1)) (0.9.2)\n",
      "Requirement already satisfied: jinja2 in /opt/conda/lib/python3.7/site-packages (from notebook>=4.0->haven-ai>=0.0->-r requirements.txt (line 1)) (2.11.3)\n",
      "Requirement already satisfied: Send2Trash in /opt/conda/lib/python3.7/site-packages (from notebook>=4.0->haven-ai>=0.0->-r requirements.txt (line 1)) (1.5.0)\n",
      "Requirement already satisfied: pyzmq>=17 in /opt/conda/lib/python3.7/site-packages (from notebook>=4.0->haven-ai>=0.0->-r requirements.txt (line 1)) (22.0.3)\n",
      "Requirement already satisfied: pytz>=2017.2 in /opt/conda/lib/python3.7/site-packages (from pandas>=0.0->haven-ai>=0.0->-r requirements.txt (line 1)) (2021.1)\n",
      "Requirement already satisfied: ptyprocess>=0.5 in /opt/conda/lib/python3.7/site-packages (from pexpect>4.3->ipython>=4.0.0->ipywidgets>=0.0->haven-ai>=0.0->-r requirements.txt (line 1)) (0.7.0)\n",
      "Requirement already satisfied: wcwidth in /opt/conda/lib/python3.7/site-packages (from prompt-toolkit!=3.0.0,!=3.0.1,<3.1.0,>=2.0.0->ipython>=4.0.0->ipywidgets>=0.0->haven-ai>=0.0->-r requirements.txt (line 1)) (0.2.5)\n",
      "Requirement already satisfied: idna<3,>=2.5 in /opt/conda/lib/python3.7/site-packages (from requests>=0.0->haven-ai>=0.0->-r requirements.txt (line 1)) (2.10)\n",
      "Requirement already satisfied: urllib3<1.27,>=1.21.1 in /opt/conda/lib/python3.7/site-packages (from requests>=0.0->haven-ai>=0.0->-r requirements.txt (line 1)) (1.26.3)\n",
      "Requirement already satisfied: certifi>=2017.4.17 in /opt/conda/lib/python3.7/site-packages (from requests>=0.0->haven-ai>=0.0->-r requirements.txt (line 1)) (2020.12.5)\n",
      "Requirement already satisfied: chardet<5,>=3.0.2 in /opt/conda/lib/python3.7/site-packages (from requests>=0.0->haven-ai>=0.0->-r requirements.txt (line 1)) (3.0.4)\n",
      "Requirement already satisfied: PyWavelets>=1.1.1 in /opt/conda/lib/python3.7/site-packages (from scikit-image>=0.0->haven-ai>=0.0->-r requirements.txt (line 1)) (1.1.1)\n",
      "Requirement already satisfied: networkx>=2.0 in /opt/conda/lib/python3.7/site-packages (from scikit-image>=0.0->haven-ai>=0.0->-r requirements.txt (line 1)) (2.5)\n",
      "Requirement already satisfied: imageio>=2.3.0 in /opt/conda/lib/python3.7/site-packages (from scikit-image>=0.0->haven-ai>=0.0->-r requirements.txt (line 1)) (2.9.0)\n",
      "Requirement already satisfied: tifffile>=2019.7.26 in /opt/conda/lib/python3.7/site-packages (from scikit-image>=0.0->haven-ai>=0.0->-r requirements.txt (line 1)) (2021.3.17)\n",
      "Requirement already satisfied: threadpoolctl>=2.0.0 in /opt/conda/lib/python3.7/site-packages (from scikit-learn>=0.0->haven-ai>=0.0->-r requirements.txt (line 1)) (2.1.0)\n",
      "Requirement already satisfied: joblib>=0.11 in /opt/conda/lib/python3.7/site-packages (from scikit-learn>=0.0->haven-ai>=0.0->-r requirements.txt (line 1)) (1.0.1)\n",
      "Requirement already satisfied: future in /opt/conda/lib/python3.7/site-packages (from torch>=0.0->haven-ai>=0.0->-r requirements.txt (line 1)) (0.18.2)\n",
      "Requirement already satisfied: typing_extensions in /opt/conda/lib/python3.7/site-packages (from torch>=0.0->haven-ai>=0.0->-r requirements.txt (line 1)) (3.7.4.3)\n",
      "Requirement already satisfied: dataclasses in /opt/conda/lib/python3.7/site-packages (from torch>=0.0->haven-ai>=0.0->-r requirements.txt (line 1)) (0.6)\n",
      "Requirement already satisfied: zipp>=0.5 in /opt/conda/lib/python3.7/site-packages (from importlib-metadata->jsonschema!=2.5.0,>=2.4->nbformat>=4.2.0->ipywidgets>=0.0->haven-ai>=0.0->-r requirements.txt (line 1)) (3.4.0)\n",
      "Requirement already satisfied: MarkupSafe>=0.23 in /opt/conda/lib/python3.7/site-packages (from jinja2->notebook>=4.0->haven-ai>=0.0->-r requirements.txt (line 1)) (1.1.1)\n",
      "Requirement already satisfied: nbclient<0.6.0,>=0.5.0 in /opt/conda/lib/python3.7/site-packages (from nbconvert->jupyter>=0.0->haven-ai>=0.0->-r requirements.txt (line 1)) (0.5.2)\n",
      "Requirement already satisfied: defusedxml in /opt/conda/lib/python3.7/site-packages (from nbconvert->jupyter>=0.0->haven-ai>=0.0->-r requirements.txt (line 1)) (0.6.0)\n",
      "Requirement already satisfied: entrypoints>=0.2.2 in /opt/conda/lib/python3.7/site-packages (from nbconvert->jupyter>=0.0->haven-ai>=0.0->-r requirements.txt (line 1)) (0.3)\n",
      "Requirement already satisfied: jupyterlab-pygments in /opt/conda/lib/python3.7/site-packages (from nbconvert->jupyter>=0.0->haven-ai>=0.0->-r requirements.txt (line 1)) (0.1.2)\n",
      "Requirement already satisfied: pandocfilters>=1.4.1 in /opt/conda/lib/python3.7/site-packages (from nbconvert->jupyter>=0.0->haven-ai>=0.0->-r requirements.txt (line 1)) (1.4.2)\n",
      "Requirement already satisfied: bleach in /opt/conda/lib/python3.7/site-packages (from nbconvert->jupyter>=0.0->haven-ai>=0.0->-r requirements.txt (line 1)) (3.3.0)\n",
      "Requirement already satisfied: mistune<2,>=0.8.1 in /opt/conda/lib/python3.7/site-packages (from nbconvert->jupyter>=0.0->haven-ai>=0.0->-r requirements.txt (line 1)) (0.8.4)\n",
      "Requirement already satisfied: testpath in /opt/conda/lib/python3.7/site-packages (from nbconvert->jupyter>=0.0->haven-ai>=0.0->-r requirements.txt (line 1)) (0.4.4)\n",
      "Requirement already satisfied: async-generator in /opt/conda/lib/python3.7/site-packages (from nbclient<0.6.0,>=0.5.0->nbconvert->jupyter>=0.0->haven-ai>=0.0->-r requirements.txt (line 1)) (1.10)\n",
      "Requirement already satisfied: nest-asyncio in /opt/conda/lib/python3.7/site-packages (from nbclient<0.6.0,>=0.5.0->nbconvert->jupyter>=0.0->haven-ai>=0.0->-r requirements.txt (line 1)) (1.4.3)\n",
      "Requirement already satisfied: packaging in /opt/conda/lib/python3.7/site-packages (from bleach->nbconvert->jupyter>=0.0->haven-ai>=0.0->-r requirements.txt (line 1)) (20.9)\n",
      "Requirement already satisfied: webencodings in /opt/conda/lib/python3.7/site-packages (from bleach->nbconvert->jupyter>=0.0->haven-ai>=0.0->-r requirements.txt (line 1)) (0.5.1)\n",
      "Requirement already satisfied: qtpy in /opt/conda/lib/python3.7/site-packages (from qtconsole->jupyter>=0.0->haven-ai>=0.0->-r requirements.txt (line 1)) (1.9.0)\n",
      "Installing collected packages: haven-ai\n",
      "Successfully installed haven-ai-0.4.1\n"
     ]
    }
   ],
   "source": [
    "!pip install -r requirements.txt\n"
   ]
  },
  {
   "cell_type": "code",
   "execution_count": null,
   "id": "fifteen-objective",
   "metadata": {},
   "outputs": [],
   "source": []
  },
  {
   "cell_type": "code",
   "execution_count": 3,
   "id": "corresponding-instrumentation",
   "metadata": {},
   "outputs": [
    {
     "name": "stdout",
     "output_type": "stream",
     "text": [
      "LICENSE    Untitled.ipynb  \u001b[0m\u001b[01;34mlcfcn\u001b[0m/            \u001b[01;34mresults\u001b[0m/  setup.py  trainval.py\n",
      "README.md  exp_configs.py  requirements.txt  \u001b[01;34mscripts\u001b[0m/  \u001b[01;34msrc\u001b[0m/\n"
     ]
    }
   ],
   "source": []
  }
 ],
 "metadata": {
  "kernelspec": {
   "display_name": "Python 3",
   "language": "python",
   "name": "python3"
  },
  "language_info": {
   "codemirror_mode": {
    "name": "ipython",
    "version": 3
   },
   "file_extension": ".py",
   "mimetype": "text/x-python",
   "name": "python",
   "nbconvert_exporter": "python",
   "pygments_lexer": "ipython3",
   "version": "3.7.9"
  }
 },
 "nbformat": 4,
 "nbformat_minor": 5
}
