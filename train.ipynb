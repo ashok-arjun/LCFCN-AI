{
 "cells": [
  {
   "cell_type": "code",
   "execution_count": null,
   "id": "advisory-coupon",
   "metadata": {},
   "outputs": [
    {
     "name": "stdout",
     "output_type": "stream",
     "text": [
      "{'batch_size': 1,\n",
      " 'dataset': {'name': 'shanghai', 'transform': 'rgb_normalize'},\n",
      " 'dataset_size': {'train': 'all', 'val': 'all'},\n",
      " 'lr': 1e-05,\n",
      " 'max_epoch': 100,\n",
      " 'model': {'base': 'fcn8_vgg16', 'name': 'lcfcn'},\n",
      " 'optimizer': 'adam'}\n",
      "Experiment saved in experiments/95a0fe4605e1fad5fc21ff97904b08db\n",
      "Downloading: \"https://download.pytorch.org/models/vgg16-397923af.pth\" to /root/.cache/torch/hub/checkpoints/vgg16-397923af.pth\n",
      "100%|████████████████████████████████████████| 528M/528M [00:06<00:00, 82.7MB/s]\n",
      "Starting experiment at epoch 0\n",
      "Training. Loss: 169.0683: 100%|███████████████| 100/100 [03:52<00:00,  2.33s/it]\n",
      "  0%|                                                    | 0/50 [00:00<?, ?it/s]\n",
      "Validating. MAE: 53.0000:   2%|▎                 | 1/50 [00:01<00:16,  3.05it/s]\u001b[A\n",
      "Validating. MAE: 68.0000:   4%|▋                 | 2/50 [00:03<00:50,  1.05s/it]\u001b[A\n",
      "Validating. MAE: 164.0000:   6%|█                | 3/50 [00:05<01:07,  1.43s/it]\u001b[A\n",
      "Validating. MAE: 164.0000:   8%|█▎               | 4/50 [00:05<01:08,  1.48s/it]\u001b[A\n",
      "Validating. MAE: 164.0000:  10%|█▋               | 5/50 [00:05<00:44,  1.00it/s]\u001b[A\n",
      "Validating. MAE: 164.0000:  12%|██               | 6/50 [00:05<00:30,  1.43it/s]\u001b[A\n",
      "Validating. MAE: 164.0000:  14%|██▍              | 7/50 [00:05<00:22,  1.95it/s]\u001b[A\n",
      "Validating. MAE: 164.0000:  16%|██▋              | 8/50 [00:05<00:16,  2.57it/s]\u001b[A\n",
      "Validating. MAE: 164.0000:  18%|███              | 9/50 [00:05<00:12,  3.26it/s]\u001b[A\n",
      "Validating. MAE: 164.0000:  20%|███▏            | 10/50 [00:06<00:10,  3.98it/s]\u001b[A\n",
      "Validating. MAE: 164.0000:  22%|███▌            | 11/50 [00:06<00:08,  4.69it/s]\u001b[A\n",
      "Validating. MAE: 164.0000:  24%|███▊            | 12/50 [00:06<00:07,  5.35it/s]\u001b[A\n",
      "Validating. MAE: 164.0000:  26%|████▏           | 13/50 [00:06<00:06,  5.94it/s]\u001b[A\n",
      "Validating. MAE: 164.0000:  28%|████▍           | 14/50 [00:06<00:05,  6.43it/s]\u001b[A\n",
      "Validating. MAE: 164.0000:  30%|████▊           | 15/50 [00:06<00:05,  6.82it/s]\u001b[A\n",
      "Validating. MAE: 164.0000:  32%|█████           | 16/50 [00:06<00:04,  7.12it/s]\u001b[A\n",
      "Validating. MAE: 164.0000:  34%|█████▍          | 17/50 [00:06<00:04,  7.35it/s]\u001b[A\n",
      "Validating. MAE: 164.0000:  36%|█████▊          | 18/50 [00:07<00:04,  7.52it/s]\u001b[A\n",
      "Validating. MAE: 164.0000:  38%|██████          | 19/50 [00:07<00:04,  7.65it/s]\u001b[A\n",
      "Validating. MAE: 164.0000:  40%|██████▍         | 20/50 [00:07<00:03,  7.73it/s]\u001b[A\n",
      "Validating. MAE: 164.0000:  42%|██████▋         | 21/50 [00:07<00:03,  7.78it/s]\u001b[A\n",
      "Validating. MAE: 164.0000:  44%|███████         | 22/50 [00:07<00:03,  7.82it/s]\u001b[A\n",
      "Validating. MAE: 164.0000:  46%|███████▎        | 23/50 [00:07<00:03,  7.86it/s]\u001b[A\n",
      "Validating. MAE: 164.0000:  48%|███████▋        | 24/50 [00:07<00:03,  7.86it/s]\u001b[A\n",
      "Validating. MAE: 164.0000:  50%|████████        | 25/50 [00:07<00:03,  7.87it/s]\u001b[A\n",
      "Validating. MAE: 164.0000:  52%|████████▎       | 26/50 [00:08<00:03,  7.88it/s]\u001b[A\n",
      "Validating. MAE: 164.0000:  54%|████████▋       | 27/50 [00:08<00:02,  7.85it/s]\u001b[A\n",
      "Validating. MAE: 164.0000:  56%|████████▉       | 28/50 [00:08<00:02,  7.88it/s]\u001b[A\n",
      "Validating. MAE: 164.0000:  58%|█████████▎      | 29/50 [00:08<00:02,  7.88it/s]\u001b[A\n",
      "Validating. MAE: 164.0000:  60%|█████████▌      | 30/50 [00:08<00:02,  7.91it/s]\u001b[A\n",
      "Validating. MAE: 164.0000:  62%|█████████▉      | 31/50 [00:08<00:02,  7.91it/s]\u001b[A\n",
      "Validating. MAE: 164.0000:  64%|██████████▏     | 32/50 [00:08<00:02,  7.92it/s]\u001b[A\n",
      "Validating. MAE: 164.0000:  66%|██████████▌     | 33/50 [00:09<00:02,  7.91it/s]\u001b[A\n",
      "Validating. MAE: 164.0000:  68%|██████████▉     | 34/50 [00:09<00:02,  7.91it/s]\u001b[A\n",
      "Validating. MAE: 164.0000:  70%|███████████▏    | 35/50 [00:09<00:01,  7.91it/s]\u001b[A\n",
      "Validating. MAE: 164.0000:  72%|███████████▌    | 36/50 [00:09<00:01,  7.92it/s]\u001b[A\n",
      "Validating. MAE: 164.0000:  74%|███████████▊    | 37/50 [00:09<00:01,  7.92it/s]\u001b[A\n",
      "Validating. MAE: 164.0000:  76%|████████████▏   | 38/50 [00:09<00:01,  7.92it/s]\u001b[A\n",
      "Validating. MAE: 164.0000:  78%|████████████▍   | 39/50 [00:09<00:01,  7.93it/s]\u001b[A\n",
      "Validating. MAE: 164.0000:  80%|████████████▊   | 40/50 [00:09<00:01,  7.91it/s]\u001b[A\n",
      "Validating. MAE: 164.0000:  82%|█████████████   | 41/50 [00:10<00:01,  7.92it/s]\u001b[A\n",
      "Validating. MAE: 164.0000:  84%|█████████████▍  | 42/50 [00:10<00:01,  7.92it/s]\u001b[A\n",
      "Validating. MAE: 164.0000:  86%|█████████████▊  | 43/50 [00:10<00:00,  7.93it/s]\u001b[A\n",
      "Validating. MAE: 164.0000:  88%|██████████████  | 44/50 [00:10<00:00,  7.94it/s]\u001b[A\n",
      "Validating. MAE: 164.0000:  90%|██████████████▍ | 45/50 [00:10<00:00,  7.96it/s]\u001b[A\n",
      "Validating. MAE: 164.0000:  92%|██████████████▋ | 46/50 [00:10<00:00,  7.95it/s]\u001b[A\n",
      "Validating. MAE: 164.0000:  94%|███████████████ | 47/50 [00:10<00:00,  7.97it/s]\u001b[A\n",
      "Validating. MAE: 164.0000:  96%|███████████████▎| 48/50 [00:10<00:00,  7.96it/s]\u001b[A\n",
      "Validating. MAE: 164.0000:  98%|███████████████▋| 49/50 [00:11<00:00,  7.96it/s]\u001b[A\n",
      "Validating. MAE: 164.0000: 100%|████████████████| 50/50 [00:11<00:00,  7.96it/s]\u001b[A\n",
      "100%|███████████████████████████████████████████| 50/50 [00:11<00:00,  4.47it/s]\u001b[A\n",
      "Validating. MAE: 164.0000: 100%|████████████████| 50/50 [00:11<00:00,  4.47it/s]\n",
      "\n",
      "    val_mae  val_score  train_loss  epoch\n",
      "0    85.64     -85.64  169.068298      0 \n",
      "\n",
      "Checkpoint Saved: experiments/95a0fe4605e1fad5fc21ff97904b08db\n",
      "Saved Best: experiments/95a0fe4605e1fad5fc21ff97904b08db\n",
      "Training. Loss: 143.9488:  61%|█████████▊      | 61/100 [03:19<01:55,  2.97s/it]"
     ]
    }
   ],
   "source": [
    "!python trainval.py -e shanghai -d /kaggle/input/shanghaitech/ShanghaiTech/part_B/ -r 1 -sb experiments -nw 2"
   ]
  }
 ],
 "metadata": {
  "kernelspec": {
   "display_name": "Python 3",
   "language": "python",
   "name": "python3"
  },
  "language_info": {
   "codemirror_mode": {
    "name": "ipython",
    "version": 3
   },
   "file_extension": ".py",
   "mimetype": "text/x-python",
   "name": "python",
   "nbconvert_exporter": "python",
   "pygments_lexer": "ipython3",
   "version": "3.7.9"
  }
 },
 "nbformat": 4,
 "nbformat_minor": 5
}
