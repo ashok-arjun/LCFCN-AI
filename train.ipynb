{
 "cells": [
  {
   "cell_type": "code",
   "execution_count": 3,
   "id": "starting-blackjack",
   "metadata": {},
   "outputs": [
    {
     "name": "stdout",
     "output_type": "stream",
     "text": [
      "{'batch_size': 1,\n",
      " 'dataset': {'name': 'shanghai', 'transform': 'rgb_normalize'},\n",
      " 'dataset_size': {'train': 'all', 'val': 'all'},\n",
      " 'lr': 1e-05,\n",
      " 'max_epoch': 100,\n",
      " 'model': {'base': 'fcn8_resnet', 'name': 'lcfcn'},\n",
      " 'optimizer': 'adam'}\n",
      "Experiment saved in experiments/d66adc3b47f4d04c84c04430ca3dbc2e\n",
      "Traceback (most recent call last):\n",
      "  File \"trainval.py\", line 183, in <module>\n",
      "    num_workers=args.num_workers)\n",
      "  File \"trainval.py\", line 76, in trainval\n",
      "    model.load_state_dict(hu.torch_load(model_path))\n",
      "  File \"/opt/conda/lib/python3.7/site-packages/haven/haven_utils/__init__.py\", line 179, in torch_load\n",
      "    obj = torch.load(fname, map_location=map_location)\n",
      "  File \"/opt/conda/lib/python3.7/site-packages/torch/serialization.py\", line 587, in load\n",
      "    with _open_zipfile_reader(opened_file) as opened_zipfile:\n",
      "  File \"/opt/conda/lib/python3.7/site-packages/torch/serialization.py\", line 242, in __init__\n",
      "    super(_open_zipfile_reader, self).__init__(torch._C.PyTorchFileReader(name_or_buffer))\n",
      "RuntimeError: [enforce fail at inline_container.cc:145] . PytorchStreamReader failed reading zip archive: failed finding central directory\n"
     ]
    }
   ],
   "source": [
    "!python trainval.py -e shanghai -d /kaggle/input/shanghaitech/ShanghaiTech/part_B/ -sb experiments -nw 2"
   ]
  },
  {
   "cell_type": "code",
   "execution_count": 1,
   "id": "elder-refund",
   "metadata": {},
   "outputs": [],
   "source": [
    "!pip install -qqq -r requirements.txt"
   ]
  }
 ],
 "metadata": {
  "kernelspec": {
   "display_name": "Python 3",
   "language": "python",
   "name": "python3"
  },
  "language_info": {
   "codemirror_mode": {
    "name": "ipython",
    "version": 3
   },
   "file_extension": ".py",
   "mimetype": "text/x-python",
   "name": "python",
   "nbconvert_exporter": "python",
   "pygments_lexer": "ipython3",
   "version": "3.7.9"
  }
 },
 "nbformat": 4,
 "nbformat_minor": 5
}
