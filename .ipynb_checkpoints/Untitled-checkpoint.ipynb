{
 "cells": [
  {
   "cell_type": "code",
   "execution_count": 2,
   "id": "manual-contamination",
   "metadata": {},
   "outputs": [],
   "source": [
    "!wget https://www.dropbox.com/s/kqqkl0exfshsw8v/mcnn_shtechB_110.h5?dl=1&fbclid=IwAR2LxhLqdyfEQx6olkTIUy-chTMhOzqMLQKcPErSTmiM5LhmeBnnGltIqVY"
   ]
  },
  {
   "cell_type": "code",
   "execution_count": 3,
   "id": "bored-australia",
   "metadata": {},
   "outputs": [
    {
     "name": "stdout",
     "output_type": "stream",
     "text": [
      "LICENSE    Untitled.ipynb  \u001b[0m\u001b[01;34mlcfcn\u001b[0m/            \u001b[01;34mresults\u001b[0m/  setup.py  trainval.py\n",
      "README.md  exp_configs.py  requirements.txt  \u001b[01;34mscripts\u001b[0m/  \u001b[01;34msrc\u001b[0m/\n"
     ]
    }
   ],
   "source": []
  }
 ],
 "metadata": {
  "kernelspec": {
   "display_name": "Python 3",
   "language": "python",
   "name": "python3"
  },
  "language_info": {
   "codemirror_mode": {
    "name": "ipython",
    "version": 3
   },
   "file_extension": ".py",
   "mimetype": "text/x-python",
   "name": "python",
   "nbconvert_exporter": "python",
   "pygments_lexer": "ipython3",
   "version": "3.7.9"
  }
 },
 "nbformat": 4,
 "nbformat_minor": 5
}
