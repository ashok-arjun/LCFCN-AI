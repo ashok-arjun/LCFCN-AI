{
 "cells": [
  {
   "cell_type": "code",
   "execution_count": 8,
   "id": "fundamental-organic",
   "metadata": {},
   "outputs": [
    {
     "name": "stderr",
     "output_type": "stream",
     "text": [
      "100%|██████████| 3/3 [00:00<00:00, 1098.85it/s]\n"
     ]
    },
    {
     "data": {
      "application/vnd.jupyter.widget-view+json": {
       "model_id": "fd9031bab76f46e08fc1ad5667075cbc",
       "version_major": 2,
       "version_minor": 0
      },
      "text/plain": [
       "Label(value='Loading Dashboard...', layout=Layout(width='200px'))"
      ]
     },
     "metadata": {},
     "output_type": "display_data"
    },
    {
     "data": {
      "application/javascript": [
       "\n",
       "        require.config({\n",
       "            paths: {\n",
       "                DT: '//cdn.datatables.net/1.10.19/js/jquery.dataTables.min',\n",
       "            }\n",
       "        });\n",
       "        $('head').append('<link rel=\"stylesheet\" type=\"text/css\" href=\"//cdn.datatables.net/1.10.19/css/jquery.dataTables.min.css\">');\n",
       "    "
      ],
      "text/plain": [
       "<IPython.core.display.Javascript object>"
      ]
     },
     "metadata": {},
     "output_type": "display_data"
    },
    {
     "data": {
      "application/vnd.jupyter.widget-view+json": {
       "model_id": "ff8691fb4f3b4ebab70d895ec13481e6",
       "version_major": 2,
       "version_minor": 0
      },
      "text/plain": [
       "Output()"
      ]
     },
     "metadata": {},
     "output_type": "display_data"
    },
    {
     "data": {
      "text/html": [
       "<style>.container { width:100% !important; }</style>"
      ],
      "text/plain": [
       "<IPython.core.display.HTML object>"
      ]
     },
     "metadata": {},
     "output_type": "display_data"
    },
    {
     "data": {
      "text/html": [
       "\n",
       "        <style>\n",
       "            .output_scroll {\n",
       "                height: unset !important;\n",
       "                border-radius: unset !important;\n",
       "                -webkit-box-shadow: unset !important;\n",
       "                box-shadow: unset !important;\n",
       "            }\n",
       "        </style>\n",
       "        "
      ],
      "text/plain": [
       "<IPython.core.display.HTML object>"
      ]
     },
     "metadata": {},
     "output_type": "display_data"
    },
    {
     "data": {
      "text/plain": [
       "<haven.haven_jupyter.DashboardManager at 0x7fdaaea68fd0>"
      ]
     },
     "execution_count": 8,
     "metadata": {},
     "output_type": "execute_result"
    }
   ],
   "source": [
    "from haven import haven_jupyter as hj\n",
    "from haven import haven_results as hr\n",
    "\n",
    "try:\n",
    "    %load_ext google.colab.data_table\n",
    "except:\n",
    "    pass\n",
    "\n",
    "# path to where the experiments got saved\n",
    "savedir_base = \"experiments\"\n",
    "\n",
    "# filter exps\n",
    "filterby_list = None\n",
    "# get experiments\n",
    "rm = hr.ResultManager(savedir_base=savedir_base, \n",
    "                      filterby_list=filterby_list, \n",
    "                      verbose=0)\n",
    "# dashboard variables\n",
    "title_list = ['dataset', 'model']\n",
    "y_metrics = ['val_mae']\n",
    "\n",
    "# launch dashboard\n",
    "hj.get_dashboard(rm, vars(), wide_display=True)"
   ]
  },
  {
   "cell_type": "code",
   "execution_count": null,
   "id": "sophisticated-compact",
   "metadata": {},
   "outputs": [
    {
     "name": "stdout",
     "output_type": "stream",
     "text": [
      "{'batch_size': 1,\n",
      " 'dataset': {'name': 'shanghai', 'transform': 'rgb_normalize'},\n",
      " 'dataset_size': {'train': 'all', 'val': 'all'},\n",
      " 'lr': 1e-05,\n",
      " 'max_epoch': 100,\n",
      " 'model': {'base': 'fcn8_vgg16', 'name': 'lcfcn'},\n",
      " 'optimizer': 'adam'}\n",
      "Experiment saved in experiments/95a0fe4605e1fad5fc21ff97904b08db\n",
      "Starting experiment at epoch 26\n",
      "Training. Loss: 86.7059:   3%|▌                 | 3/100 [00:17<07:58,  4.93s/it]"
     ]
    }
   ],
   "source": [
    "!python trainval.py -e shanghai -d /kaggle/input/shanghaitech/ShanghaiTech/part_B/ -sb experiments -nw 2"
   ]
  }
 ],
 "metadata": {
  "kernelspec": {
   "display_name": "Python 3",
   "language": "python",
   "name": "python3"
  },
  "language_info": {
   "codemirror_mode": {
    "name": "ipython",
    "version": 3
   },
   "file_extension": ".py",
   "mimetype": "text/x-python",
   "name": "python",
   "nbconvert_exporter": "python",
   "pygments_lexer": "ipython3",
   "version": "3.7.9"
  }
 },
 "nbformat": 4,
 "nbformat_minor": 5
}
